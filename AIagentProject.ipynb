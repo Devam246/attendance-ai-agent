{
  "nbformat": 4,
  "nbformat_minor": 0,
  "metadata": {
    "colab": {
      "provenance": []
    },
    "kernelspec": {
      "name": "python3",
      "display_name": "Python 3"
    },
    "language_info": {
      "name": "python"
    }
  },
  "cells": [
    {
      "cell_type": "code",
      "execution_count": 9,
      "metadata": {
        "id": "TFBHdmPZftod"
      },
      "outputs": [],
      "source": [
        "!pip install --quiet openai google-api-python-client google-auth pandas"
      ]
    },
    {
      "cell_type": "code",
      "source": [
        "from google.oauth2 import service_account\n",
        "from googleapiclient.discovery import build\n",
        "import pandas as pd\n",
        "import openai\n",
        "\n",
        "# SET THESE VALUES\n",
        "SPREADSHEET_ID = '16nKBSuG2fzOu453ofrEjAJw32FsVgkM9NoJAVt3UcMo'  # from the Google Sheet URL\n",
        "AZURE_API_KEY = '8WxLaoodYxa7XSK2rCiWuP3nqwWUShSUVd5FrjEYSqqROfIwc0qzJQQJ99BFAC77bzfXJ3w3AAABACOGweqQ'\n",
        "AZURE_ENDPOINT = 'https://mindcraft-kapidhwaj-openai-api-key.openai.azure.com/'\n",
        "AZURE_DEPLOYMENT = 'mindcraft-gpt4o'\n",
        "\n",
        "# Authenticate with Google Sheets\n",
        "creds = service_account.Credentials.from_service_account_file(\n",
        "    'credentials.json',\n",
        "    scopes=['https://www.googleapis.com/auth/spreadsheets']\n",
        ")\n",
        "sheet = build('sheets', 'v4', credentials=creds)\n",
        "\n",
        "# Authenticate Azure OpenAI\n",
        "openai.api_type = \"azure\"\n",
        "openai.api_base = 'https://mindcraft-kapidhwaj-openai-api-key.openai.azure.com/'\n",
        "openai.api_version = \"2024-12-01-preview\"\n",
        "openai.api_key = '8WxLaoodYxa7XSK2rCiWuP3nqwWUShSUVd5FrjEYSqqROfIwc0qzJQQJ99BFAC77bzfXJ3w3AAABACOGweqQ'\n"
      ],
      "metadata": {
        "id": "fxVZnDA3ldh-"
      },
      "execution_count": 10,
      "outputs": []
    },
    {
      "cell_type": "code",
      "source": [
        "import pandas as pd\n",
        "\n",
        "def read_biometric_csv(csv_path):\n",
        "    \"\"\"\n",
        "    Reads biometric attendance CSV into DataFrame\n",
        "    \"\"\"\n",
        "    df = pd.read_csv(csv_path)\n",
        "    df['TimeIn'] = df['TimeIn'].fillna('')\n",
        "    return df\n",
        "\n",
        "# Example: Replace with uploaded file path in Colab\n",
        "df_attendance = read_biometric_csv('biometric_sample.csv')\n",
        "print(df_attendance)\n"
      ],
      "metadata": {
        "colab": {
          "base_uri": "https://localhost:8080/"
        },
        "id": "c3s9FAgKm4qh",
        "outputId": "c4c7e69a-1dc4-4e0e-c68d-73ad13b58a84"
      },
      "execution_count": 11,
      "outputs": [
        {
          "output_type": "stream",
          "name": "stdout",
          "text": [
            "          Date EmpID      Name TimeIn\n",
            "0   2025-06-16   E01       Raj  09:13\n",
            "1   2025-06-16   E02  Abhishek  09:54\n",
            "2   2025-06-16   E03    Deepak  09:35\n",
            "3   2025-06-16   E04    Mayank  09:57\n",
            "4   2025-06-16   E05    Yukthi  09:56\n",
            "5   2025-06-16   E06     Tanya  10:39\n",
            "6   2025-06-16   E07     Dhruv  09:58\n",
            "7   2025-06-16   E08      Riya  09:00\n",
            "8   2025-06-17   E01       Raj       \n",
            "9   2025-06-17   E02  Abhishek  09:56\n",
            "10  2025-06-17   E03    Deepak  09:16\n",
            "11  2025-06-17   E04    Mayank  09:14\n",
            "12  2025-06-17   E05    Yukthi  09:07\n",
            "13  2025-06-17   E06     Tanya  09:08\n",
            "14  2025-06-17   E07     Dhruv  09:50\n",
            "15  2025-06-17   E08      Riya  10:40\n",
            "16  2025-06-18   E01       Raj       \n",
            "17  2025-06-18   E02  Abhishek       \n",
            "18  2025-06-18   E03    Deepak  09:34\n",
            "19  2025-06-18   E04    Mayank  09:37\n",
            "20  2025-06-18   E05    Yukthi  09:28\n",
            "21  2025-06-18   E06     Tanya  09:38\n",
            "22  2025-06-18   E07     Dhruv  09:45\n",
            "23  2025-06-18   E08      Riya  10:56\n",
            "24  2025-06-19   E01       Raj       \n",
            "25  2025-06-19   E02  Abhishek  10:47\n",
            "26  2025-06-19   E03    Deepak  09:28\n",
            "27  2025-06-19   E04    Mayank  10:32\n",
            "28  2025-06-19   E05    Yukthi  09:54\n",
            "29  2025-06-19   E06     Tanya  09:00\n",
            "30  2025-06-19   E07     Dhruv       \n",
            "31  2025-06-19   E08      Riya  10:36\n",
            "32  2025-06-20   E01       Raj  09:34\n",
            "33  2025-06-20   E02  Abhishek  09:06\n",
            "34  2025-06-20   E03    Deepak  10:42\n",
            "35  2025-06-20   E04    Mayank  09:44\n",
            "36  2025-06-20   E05    Yukthi  10:45\n",
            "37  2025-06-20   E06     Tanya  10:40\n",
            "38  2025-06-20   E07     Dhruv  09:34\n",
            "39  2025-06-20   E08      Riya  09:09\n"
          ]
        }
      ]
    },
    {
      "cell_type": "code",
      "source": [
        "from openai import AzureOpenAI\n",
        "\n",
        "client = AzureOpenAI(\n",
        "    api_key=\"8WxLaoodYxa7XSK2rCiWuP3nqwWUShSUVd5FrjEYSqqROfIwc0qzJQQJ99BFAC77bzfXJ3w3AAABACOGweqQ\",\n",
        "    api_version=\"2024-12-01-preview\",\n",
        "    azure_endpoint=\"https://mindcraft-kapidhwaj-openai-api-key.openai.azure.com/\"\n",
        ")\n",
        "\n",
        "def classify_attendance(name, time_in):\n",
        "    time_in_str = str(time_in).strip() if time_in else \"None\"\n",
        "\n",
        "    messages = [\n",
        "        {\n",
        "            \"role\": \"system\",\n",
        "            \"content\": (\n",
        "                \"You are an AI Attendance Agent. Classify attendance based on time-in.\\n\"\n",
        "                \"Respond only with:\\n\"\n",
        "                \"- Present at <time>\\n\"\n",
        "                \"- Late at <time>\\n\"\n",
        "                \"- Late Present at <time>\\n\"\n",
        "                \"- Absent\"\n",
        "            )\n",
        "        },\n",
        "        {\n",
        "            \"role\": \"user\",\n",
        "            \"content\": f\"\"\"\n",
        "Employee: {name}\n",
        "Time In: {time_in_str}\n",
        "\n",
        "Rules:\n",
        "- Before 09:30 → Present\n",
        "- Between 09:30 and 10:30 → Late\n",
        "- After 10:30 → Late Present\n",
        "- No Time → Absent\n",
        "\"\"\"\n",
        "        }\n",
        "    ]\n",
        "\n",
        "    try:\n",
        "        response = client.chat.completions.create(\n",
        "            model=\"mindcraft-gpt4o\",  # use your actual deployment name\n",
        "            messages=messages\n",
        "        )\n",
        "        return response.choices[0].message.content.strip()\n",
        "\n",
        "    except Exception as e:\n",
        "        print(f\"[ERROR] Classifying {name}: {e}\")\n",
        "        return \"Error\"\n"
      ],
      "metadata": {
        "id": "WUx1RMGWn5zU"
      },
      "execution_count": 12,
      "outputs": []
    },
    {
      "cell_type": "code",
      "source": [
        "from datetime import datetime\n",
        "\n",
        "def map_time_to_status(time_in):\n",
        "    if not time_in or time_in.strip() == \"\":\n",
        "        return \"🔴\"  # Absent\n",
        "    try:\n",
        "        time_obj = datetime.strptime(time_in, \"%H:%M\")\n",
        "        if time_obj < datetime.strptime(\"09:30\", \"%H:%M\"):\n",
        "            return f\"✅{time_in}\"\n",
        "        elif time_obj <= datetime.strptime(\"10:30\", \"%H:%M\"):\n",
        "            return f\"🟡{time_in}\"\n",
        "        else:\n",
        "            return f\"🟠{time_in}\"\n",
        "    except:\n",
        "        return \"❓\"  # Unexpected format\n"
      ],
      "metadata": {
        "id": "tC9OdkW8q-GI"
      },
      "execution_count": 13,
      "outputs": []
    },
    {
      "cell_type": "code",
      "source": [
        "def process_calendar_view(csv_path):\n",
        "    df = read_biometric_csv(csv_path)\n",
        "\n",
        "    # Get unique list of dates in the file\n",
        "    dates = sorted(df['Date'].unique())\n",
        "\n",
        "    # Pivot Data: { (EmpID, Name) : {Date: Status} }\n",
        "    result_dict = {}\n",
        "    for _, row in df.iterrows():\n",
        "        emp_id = row['EmpID']\n",
        "        name = row['Name']\n",
        "        date = row['Date']\n",
        "        time_in = row['TimeIn']\n",
        "        status = map_time_to_status(time_in)\n",
        "\n",
        "        key = (emp_id, name)\n",
        "        if key not in result_dict:\n",
        "            result_dict[key] = {}\n",
        "        result_dict[key][date] = status\n",
        "\n",
        "    # Prepare final DataFrame\n",
        "    final_data = []\n",
        "    for (emp_id, name), date_status_map in result_dict.items():\n",
        "        row = [emp_id, name]\n",
        "        for d in dates:\n",
        "            row.append(date_status_map.get(d, \"🔴\"))  # Mark 🔴 if date missing\n",
        "        final_data.append(row)\n",
        "\n",
        "    columns = [\"EmpID\", \"Name\"] + dates\n",
        "    return pd.DataFrame(final_data, columns=columns)\n"
      ],
      "metadata": {
        "id": "NYYLDlMdr4KY"
      },
      "execution_count": 14,
      "outputs": []
    },
    {
      "cell_type": "code",
      "source": [
        "def write_to_google_sheet(df):\n",
        "    values = [list(df.columns)] + df.values.tolist()\n",
        "    sheet.spreadsheets().values().update(\n",
        "        spreadsheetId=SPREADSHEET_ID,\n",
        "        range=\"AttendenceSheet!A1\",\n",
        "        valueInputOption=\"RAW\",\n",
        "        body={\"values\": values}\n",
        "    ).execute()\n"
      ],
      "metadata": {
        "id": "qpw3i6MEr6_3"
      },
      "execution_count": 15,
      "outputs": []
    },
    {
      "cell_type": "code",
      "source": [
        "calendar_df = process_calendar_view(\"biometric_sample.csv\")\n",
        "write_to_google_sheet(calendar_df)\n",
        "\n",
        "print(\"✅ Sheet updated in calendar format with colors + time!\")\n"
      ],
      "metadata": {
        "colab": {
          "base_uri": "https://localhost:8080/"
        },
        "id": "9z448n32r9Xj",
        "outputId": "6f72e9db-c56b-4875-cd77-7c6aa69cac33"
      },
      "execution_count": 16,
      "outputs": [
        {
          "output_type": "stream",
          "name": "stdout",
          "text": [
            "✅ Sheet updated in calendar format with colors + time!\n"
          ]
        }
      ]
    },
    {
      "cell_type": "code",
      "source": [
        "#Test code for LLM\n",
        "def test_ai_agent(csv_path):\n",
        "    df = pd.read_csv(csv_path)\n",
        "    for _, row in df.iterrows():\n",
        "        name = row['Name']\n",
        "        time_in = row['TimeIn']\n",
        "        status = classify_attendance(name, time_in)\n",
        "        print(f\"{name} → {status}\")\n",
        "\n",
        "test_ai_agent(\"biometric_sample.csv\")\n"
      ],
      "metadata": {
        "colab": {
          "base_uri": "https://localhost:8080/"
        },
        "id": "KMiml2Hdspel",
        "outputId": "1e38057e-6020-4308-88d5-a713bf0277fb"
      },
      "execution_count": 17,
      "outputs": [
        {
          "output_type": "stream",
          "name": "stdout",
          "text": [
            "Raj → Present at 09:13\n",
            "Abhishek → Late at 09:54\n",
            "Deepak → Late at 09:35\n",
            "Mayank → Late at 09:57\n",
            "Yukthi → Late at 09:56\n",
            "Tanya → Late Present at 10:39\n",
            "Dhruv → Late at 09:58\n",
            "Riya → Present at 09:00\n",
            "Raj → Absent\n",
            "Abhishek → Late at 09:56\n",
            "Deepak → Present at 09:16\n",
            "Mayank → Present at 09:14\n",
            "Yukthi → Present at 09:07\n",
            "Tanya → Present at 09:08\n",
            "Dhruv → Late at 09:50\n",
            "Riya → Late Present at 10:40\n",
            "Raj → Absent\n",
            "Abhishek → Absent\n",
            "Deepak → Late at 09:34\n",
            "Mayank → Late at 09:37\n",
            "Yukthi → Present at 09:28\n",
            "Tanya → Late at 09:38\n",
            "Dhruv → Late at 09:45\n",
            "Riya → Late Present at 10:56\n",
            "Raj → Absent\n",
            "Abhishek → Late Present at 10:47\n",
            "Deepak → Present at 09:28\n",
            "Mayank → Late Present at 10:32\n",
            "Yukthi → Late at 09:54\n",
            "Tanya → Present at 09:00\n",
            "Dhruv → Absent\n",
            "Riya → Late Present at 10:36\n",
            "Raj → Late at 09:34\n",
            "Abhishek → Present at 09:06\n",
            "Deepak → Late Present at 10:42\n",
            "Mayank → Late at 09:44\n",
            "Yukthi → Late Present at 10:45\n",
            "Tanya → Late Present at 10:40\n",
            "Dhruv → Late at 09:34\n",
            "Riya → Present at 09:09\n"
          ]
        }
      ]
    },
    {
      "cell_type": "markdown",
      "source": [
        "LLM and CSV Read Write is working all fine for now.. Now lets dive deep into **Mailing system**."
      ],
      "metadata": {
        "id": "ADJciyIvwMtd"
      }
    },
    {
      "cell_type": "code",
      "source": [
        "import smtplib\n",
        "from email.mime.text import MIMEText\n",
        "from email.mime.multipart import MIMEMultipart\n",
        "\n",
        "EMAIL_ADDRESS = \"crazycoder246@gmail.com\"\n",
        "EMAIL_PASSWORD = \"qesx gnwh ahht uvkt\"  # use app password (not normal password)\n"
      ],
      "metadata": {
        "id": "WMZf12Y9wXtr"
      },
      "execution_count": 18,
      "outputs": []
    },
    {
      "cell_type": "code",
      "source": [
        "employee_emails = {\n",
        "    \"E01\": \"devamkharbanda440.dk@gmail.com\",\n",
        "    \"E02\": \"poonamkharbanda817@gmail.com\",\n",
        "    \"E03\": \"dev.amkharbanda246@gmail.com\",\n",
        "    \"E04\": \"mayank@example.com\"\n",
        "}\n",
        "hr_email = \"crazycoder246@gmail.com\""
      ],
      "metadata": {
        "id": "bKGAMo-wxzT4"
      },
      "execution_count": 19,
      "outputs": []
    },
    {
      "cell_type": "code",
      "source": [
        "def send_hr_summary(attendance_list, hr_email=\"crazycoder246@gmail.com\"):\n",
        "    present, late, late_present, absent = [], [], [], []\n",
        "\n",
        "    for record in attendance_list:\n",
        "        name = record['Name']\n",
        "        status = record['Status']\n",
        "\n",
        "        if \"✅\" in status:\n",
        "            present.append(f\"{name} ({status})\")\n",
        "        elif \"🟡\" in status:\n",
        "            late.append(f\"{name} ({status})\")\n",
        "        elif \"🟠\" in status:\n",
        "            late_present.append(f\"{name} ({status})\")\n",
        "        elif \"🔴\" in status:\n",
        "            absent.append(f\"{name}\")\n",
        "\n",
        "    body = f\"\"\"Attendance Summary for Today:\n",
        "\n",
        "✅ Present:\n",
        "{chr(10).join(present)}\n",
        "\n",
        "🟡 Late:\n",
        "{chr(10).join(late)}\n",
        "\n",
        "🟠 Late Present:\n",
        "{chr(10).join(late_present)}\n",
        "\n",
        "🔴 Absent:\n",
        "{chr(10).join(absent)}\n",
        "\"\"\"\n",
        "\n",
        "    msg = MIMEMultipart()\n",
        "    msg['From'] = EMAIL_ADDRESS\n",
        "    msg['To'] = hr_email\n",
        "    msg['Subject'] = \"Daily Attendance Summary\"\n",
        "    msg.attach(MIMEText(body, 'plain'))\n",
        "\n",
        "    with smtplib.SMTP(\"smtp.gmail.com\", 587) as server:\n",
        "        server.starttls()\n",
        "        server.login(EMAIL_ADDRESS, EMAIL_PASSWORD)\n",
        "        server.send_message(msg)\n",
        "\n",
        "    print(\"✅ HR Summary Email Sent.\")\n"
      ],
      "metadata": {
        "id": "DWE_eOt2yJi3"
      },
      "execution_count": 20,
      "outputs": []
    },
    {
      "cell_type": "code",
      "source": [
        "def send_employee_alerts(attendance_list):\n",
        "    for record in attendance_list:\n",
        "        emp_id = record['EmpID']\n",
        "        name = record['Name']\n",
        "        status = record['Status']\n",
        "\n",
        "        if \"✅\" in status:\n",
        "            continue  # no email for present\n",
        "\n",
        "        email = employee_emails.get(emp_id)\n",
        "        if not email:\n",
        "            print(f\"⚠️ No email found for {name}\")\n",
        "            continue\n",
        "\n",
        "        body = f\"\"\"Hi {name},\n",
        "\n",
        "Your attendance status today was: {status}\n",
        "\n",
        "This is an automated notification.\n",
        "Please ensure punctuality.\n",
        "\n",
        "Regards,\n",
        "Attendance AI Agent\n",
        "\"\"\"\n",
        "        msg = MIMEMultipart()\n",
        "        msg['From'] = EMAIL_ADDRESS\n",
        "        msg['To'] = email\n",
        "        msg['Subject'] = \"Your Attendance Status\"\n",
        "        msg.attach(MIMEText(body, 'plain'))\n",
        "\n",
        "        with smtplib.SMTP(\"smtp.gmail.com\", 587) as server:\n",
        "            server.starttls()\n",
        "            server.login(EMAIL_ADDRESS, EMAIL_PASSWORD)\n",
        "            server.send_message(msg)\n",
        "\n",
        "        print(f\"📧 Sent alert to {name} ({status})\")\n"
      ],
      "metadata": {
        "id": "5OtafG16yiMm"
      },
      "execution_count": 21,
      "outputs": []
    },
    {
      "cell_type": "code",
      "source": [
        "attendance_today = [\n",
        "    {\"EmpID\": \"E01\", \"Name\": \"Raj\", \"Status\": \"✅09:25\"},\n",
        "    {\"EmpID\": \"E02\", \"Name\": \"Abhishek\", \"Status\": \"🔴\"},\n",
        "    {\"EmpID\": \"E03\", \"Name\": \"Deepak\", \"Status\": \"🟠10:45\"},\n",
        "    {\"EmpID\": \"E04\", \"Name\": \"Mayank\", \"Status\": \"🟡09:32\"},\n",
        "]\n"
      ],
      "metadata": {
        "id": "MyfWiDYUyp68"
      },
      "execution_count": 22,
      "outputs": []
    },
    {
      "cell_type": "code",
      "source": [
        "send_hr_summary(attendance_today)\n",
        "send_employee_alerts(attendance_today)\n"
      ],
      "metadata": {
        "colab": {
          "base_uri": "https://localhost:8080/"
        },
        "id": "fXiwqb0Nyvc4",
        "outputId": "9c22001b-1bc1-48a3-89b0-3b62e4915d31"
      },
      "execution_count": 23,
      "outputs": [
        {
          "output_type": "stream",
          "name": "stdout",
          "text": [
            "✅ HR Summary Email Sent.\n",
            "📧 Sent alert to Abhishek (🔴)\n",
            "📧 Sent alert to Deepak (🟠10:45)\n",
            "📧 Sent alert to Mayank (🟡09:32)\n"
          ]
        }
      ]
    },
    {
      "cell_type": "markdown",
      "source": [
        "Mailing Done.. Now lets move on to ChatBot Integration where AI would analyze data and HR could chat with AI on Whatsapp."
      ],
      "metadata": {
        "id": "s2mRar2Hzf2i"
      }
    },
    {
      "cell_type": "code",
      "source": [
        "!pip install python-telegram-bot==13.15\n"
      ],
      "metadata": {
        "colab": {
          "base_uri": "https://localhost:8080/"
        },
        "id": "xWMXsab7zeqj",
        "outputId": "58988ec8-a69c-4a12-b66e-7dd036805dd3"
      },
      "execution_count": 24,
      "outputs": [
        {
          "output_type": "stream",
          "name": "stdout",
          "text": [
            "Requirement already satisfied: python-telegram-bot==13.15 in /usr/local/lib/python3.11/dist-packages (13.15)\n",
            "Requirement already satisfied: certifi in /usr/local/lib/python3.11/dist-packages (from python-telegram-bot==13.15) (2025.6.15)\n",
            "Requirement already satisfied: tornado==6.1 in /usr/local/lib/python3.11/dist-packages (from python-telegram-bot==13.15) (6.1)\n",
            "Requirement already satisfied: APScheduler==3.6.3 in /usr/local/lib/python3.11/dist-packages (from python-telegram-bot==13.15) (3.6.3)\n",
            "Requirement already satisfied: pytz>=2018.6 in /usr/local/lib/python3.11/dist-packages (from python-telegram-bot==13.15) (2025.2)\n",
            "Requirement already satisfied: cachetools==4.2.2 in /usr/local/lib/python3.11/dist-packages (from python-telegram-bot==13.15) (4.2.2)\n",
            "Requirement already satisfied: setuptools>=0.7 in /usr/local/lib/python3.11/dist-packages (from APScheduler==3.6.3->python-telegram-bot==13.15) (75.2.0)\n",
            "Requirement already satisfied: six>=1.4.0 in /usr/local/lib/python3.11/dist-packages (from APScheduler==3.6.3->python-telegram-bot==13.15) (1.17.0)\n",
            "Requirement already satisfied: tzlocal>=1.2 in /usr/local/lib/python3.11/dist-packages (from APScheduler==3.6.3->python-telegram-bot==13.15) (5.3.1)\n"
          ]
        }
      ]
    },
    {
      "cell_type": "code",
      "source": [
        "from telegram.ext import Updater, CommandHandler, MessageHandler, Filters\n",
        "import openai\n",
        "import pandas as pd\n",
        "from datetime import datetime\n",
        "from googleapiclient.discovery import build\n",
        "from google.oauth2 import service_account\n",
        "\n",
        "# --- SETUP ---\n",
        "\n",
        "# Telegram\n",
        "TELEGRAM_TOKEN = \"7869638478:AAFiW16P7wP9Pv_cStPfNMd5r-kGCv4Yk1g\"\n",
        "\n",
        "# Azure GPT\n",
        "openai.api_type = \"azure\"\n",
        "openai.api_key = \"8WxLaoodYxa7XSK2rCiWuP3nqwWUShSUVd5FrjEYSqqROfIwc0qzJQQJ99BFAC77bzfXJ3w3AAABACOGweqQ\"\n",
        "openai.api_base = \"https://mindcraft-kapidhwaj-openai-api-key.openai.azure.com/\"\n",
        "openai.api_version = \"2024-12-01-preview\"\n",
        "AZURE_DEPLOYMENT = \"mindcraft-gpt4o\"  # your deployment name\n",
        "\n",
        "# Google Sheets\n",
        "SERVICE_ACCOUNT_FILE = 'credentials.json'  # upload this\n",
        "SPREADSHEET_ID = '16nKBSuG2fzOu453ofrEjAJw32FsVgkM9NoJAVt3UcMo'\n",
        "SHEET_NAME = 'AttendanceSheet'\n",
        "\n",
        "SCOPES = ['https://www.googleapis.com/auth/spreadsheets.readonly']\n",
        "creds = service_account.Credentials.from_service_account_file(\n",
        "    SERVICE_ACCOUNT_FILE, scopes=SCOPES)\n",
        "sheet = build('sheets', 'v4', credentials=creds)\n"
      ],
      "metadata": {
        "id": "y4eB9yuF2-I9"
      },
      "execution_count": 25,
      "outputs": []
    },
    {
      "cell_type": "code",
      "source": [
        "def fetch_attendance_data():\n",
        "    result = sheet.spreadsheets().values().get(\n",
        "        spreadsheetId=SPREADSHEET_ID,\n",
        "        range=f\"AttendenceSheet!A1:Z\"\n",
        "    ).execute()\n",
        "    values = result.get('values', [])\n",
        "    return pd.DataFrame(values[1:], columns=values[0]) if values else pd.DataFrame()\n",
        "\n",
        "from openai import AzureOpenAI\n",
        "\n",
        "client = AzureOpenAI(\n",
        "    api_key=openai.api_key,\n",
        "    api_version=openai.api_version,\n",
        "    azure_endpoint=openai.api_base\n",
        ")\n",
        "\n",
        "def ask_gpt(user_query, df):\n",
        "    prompt = f\"\"\"\n",
        "You are an AI HR assistant. Use this attendance data to answer questions:\n",
        "{df.to_string(index=False)}\n",
        "\n",
        "Question: {user_query}\n",
        "\n",
        "Answer concisely and clearly based only on the data.\n",
        "\"\"\"\n",
        "    response = client.chat.completions.create(\n",
        "        model=\"mindcraft-gpt4o\",  # your deployment name\n",
        "        messages=[\n",
        "            {\"role\": \"system\", \"content\": \"You're a smart HR assistant for attendance queries.\"},\n",
        "            {\"role\": \"user\", \"content\": prompt}\n",
        "        ]\n",
        "    )\n",
        "    return response.choices[0].message.content.strip()\n",
        "\n"
      ],
      "metadata": {
        "id": "pQAdzI4h_W-Q"
      },
      "execution_count": 26,
      "outputs": []
    },
    {
      "cell_type": "code",
      "source": [
        "from telegram.ext import Updater, CommandHandler, MessageHandler, Filters\n",
        "\n",
        "def handle_message(update, context):\n",
        "    user_msg = update.message.text\n",
        "    update.message.reply_text(\"⏳ Processing your query...\")\n",
        "\n",
        "    try:\n",
        "        df = fetch_attendance_data()\n",
        "        reply = ask_gpt(user_msg, df)\n",
        "        update.message.reply_text(reply)\n",
        "    except Exception as e:\n",
        "        update.message.reply_text(f\"❌ Error: {str(e)}\")\n",
        "\n",
        "updater = Updater(token=TELEGRAM_TOKEN, use_context=True)\n",
        "dispatcher = updater.dispatcher\n",
        "dispatcher.add_handler(MessageHandler(Filters.text & ~Filters.command, handle_message))\n",
        "\n",
        "print(\"🤖 Bot is running... Start chatting in Telegram!\")\n",
        "updater.start_polling()\n",
        "updater.idle()\n"
      ],
      "metadata": {
        "colab": {
          "base_uri": "https://localhost:8080/"
        },
        "id": "O15Sn9_KAGGt",
        "outputId": "d1c7562e-acbf-4286-b200-659561bd26ab"
      },
      "execution_count": 27,
      "outputs": [
        {
          "output_type": "stream",
          "name": "stdout",
          "text": [
            "🤖 Bot is running... Start chatting in Telegram!\n"
          ]
        }
      ]
    }
  ]
}